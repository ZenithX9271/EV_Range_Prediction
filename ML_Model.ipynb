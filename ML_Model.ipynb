{
 "cells": [
  {
   "cell_type": "code",
   "execution_count": null,
   "id": "471e2f10",
   "metadata": {},
   "outputs": [],
   "source": [
    "#Data Collection"
   ]
  },
  {
   "cell_type": "code",
   "execution_count": null,
   "id": "e112605e",
   "metadata": {},
   "outputs": [
    {
     "name": "stdout",
     "output_type": "stream",
     "text": [
      "Current working directory: c:\\Users\\shash\\OneDrive\\Desktop\\Currently Doing\\Intro_ML_EVRP_GitHub\n",
      "📍 GPS Location: 28.6519, 77.2315\n",
      "Found 'Tirupati': 13.6316368, 79.4231711\n",
      "Found 'Piler': 46.979544, 10.3879129\n",
      "✅ Data collected: {'latitude': 28.6519, 'longitude': 77.2315, 'voltage': 12.0, 'current': 1.5, 'SOC': 12.0, 'SOH': 83.33333333333334, 'load_weight': 100, 'AC_status': 1, 'weather_main': 'rain', 'weather_description': 'moderate rain', 'temperature': 34.56, 'wind_speed': 5.97, 'weather_penalty': 0, 'road_condition': 'rain', 'friction_coefficient': 0.49, 'slope': 30, 'curvature': 1.0, 'slope_penalty': 1.5, 'curvature_penalty': 1.2, 'elevation_start': None, 'elevation_mid': None, 'elevation_end': None, 'tire_pressure': 28.5, 'tire_health': 0.75, 'tire_penalty': 0.37000000000000005, 'timestamp': '2025-04-11 19:41:20'}\n",
      "📍 GPS Location: 28.6519, 77.2315\n",
      "Found 'Tirupati': 13.6316368, 79.4231711\n",
      "Found 'Piler': 46.979544, 10.3879129\n",
      "✅ Data collected: {'latitude': 28.6519, 'longitude': 77.2315, 'voltage': 12.0, 'current': 1.5, 'SOC': 12.0, 'SOH': 83.33333333333334, 'load_weight': 100, 'AC_status': 1, 'weather_main': 'rain', 'weather_description': 'moderate rain', 'temperature': 34.56, 'wind_speed': 5.97, 'weather_penalty': 0, 'road_condition': 'rain', 'friction_coefficient': 0.49, 'slope': 30, 'curvature': 1.0, 'slope_penalty': 1.5, 'curvature_penalty': 1.2, 'elevation_start': None, 'elevation_mid': None, 'elevation_end': None, 'tire_pressure': 28.5, 'tire_health': 0.75, 'tire_penalty': 0.37000000000000005, 'timestamp': '2025-04-11 19:41:26'}\n",
      "📍 GPS Location: 28.6519, 77.2315\n",
      "Found 'Tirupati': 13.6316368, 79.4231711\n",
      "Found 'Piler': 46.979544, 10.3879129\n",
      "✅ Data collected: {'latitude': 28.6519, 'longitude': 77.2315, 'voltage': 12.0, 'current': 1.5, 'SOC': 12.0, 'SOH': 83.33333333333334, 'load_weight': 100, 'AC_status': 1, 'weather_main': 'rain', 'weather_description': 'moderate rain', 'temperature': 34.56, 'wind_speed': 5.97, 'weather_penalty': 0, 'road_condition': 'rain', 'friction_coefficient': 0.49, 'slope': 30, 'curvature': 1.0, 'slope_penalty': 1.5, 'curvature_penalty': 1.2, 'elevation_start': None, 'elevation_mid': None, 'elevation_end': None, 'tire_pressure': 28.5, 'tire_health': 0.75, 'tire_penalty': 0.37000000000000005, 'timestamp': '2025-04-11 19:41:32'}\n",
      "📍 GPS Location: 28.6519, 77.2315\n",
      "Found 'Tirupati': 13.6316368, 79.4231711\n",
      "Found 'Piler': 46.979544, 10.3879129\n",
      "✅ Data collected: {'latitude': 28.6519, 'longitude': 77.2315, 'voltage': 12.0, 'current': 1.5, 'SOC': 12.0, 'SOH': 83.33333333333334, 'load_weight': 100, 'AC_status': 1, 'weather_main': 'rain', 'weather_description': 'moderate rain', 'temperature': 34.56, 'wind_speed': 5.97, 'weather_penalty': 0, 'road_condition': 'rain', 'friction_coefficient': 0.49, 'slope': 30, 'curvature': 1.0, 'slope_penalty': 1.5, 'curvature_penalty': 1.2, 'elevation_start': None, 'elevation_mid': None, 'elevation_end': None, 'tire_pressure': 28.5, 'tire_health': 0.75, 'tire_penalty': 0.37000000000000005, 'timestamp': '2025-04-11 19:41:39'}\n",
      "📍 GPS Location: 28.6519, 77.2315\n",
      "Found 'Tirupati': 13.6316368, 79.4231711\n",
      "Found 'Piler': 46.979544, 10.3879129\n",
      "✅ Data collected: {'latitude': 28.6519, 'longitude': 77.2315, 'voltage': 12.0, 'current': 1.5, 'SOC': 12.0, 'SOH': 83.33333333333334, 'load_weight': 100, 'AC_status': 1, 'weather_main': 'rain', 'weather_description': 'moderate rain', 'temperature': 34.56, 'wind_speed': 5.97, 'weather_penalty': 0, 'road_condition': 'rain', 'friction_coefficient': 0.49, 'slope': 30, 'curvature': 1.0, 'slope_penalty': 1.5, 'curvature_penalty': 1.2, 'elevation_start': None, 'elevation_mid': None, 'elevation_end': None, 'tire_pressure': 28.5, 'tire_health': 0.75, 'tire_penalty': 0.37000000000000005, 'timestamp': '2025-04-11 19:41:45'}\n",
      "📁 Data saved to ev_drive_data.csv\n"
     ]
    }
   ],
   "source": [
    "import pandas as pd\n",
    "import time\n",
    "import os\n",
    "\n",
    "from bms import readBatteryVoltage, readBatteryCurrent, updateSOC, estimateSOH\n",
    "from fuel_system import FuelSystem\n",
    "from gps_tracker import get_gps_location\n",
    "from road_info import Roadconditions\n",
    "from road_features import RoadFeatures\n",
    "from user_input import load, ac_codn\n",
    "from weather_info import Weatherconditions\n",
    "from tire_system import TireSystem \n",
    "\n",
    "print(\"Current working directory:\", os.getcwd())\n",
    "\n",
    "fuel_system = FuelSystem(load_weight=load)\n",
    "road_conditions = Roadconditions()\n",
    "data_records = []\n",
    "\n",
    "def collect_data():\n",
    "    global data_records\n",
    "\n",
    "    lat, lon = get_gps_location()\n",
    "    if lat is None or lon is None:\n",
    "        print(\"GPS not available.\")\n",
    "        return\n",
    "\n",
    "    updateSOC(1)\n",
    "    voltage = readBatteryVoltage()\n",
    "    current = readBatteryCurrent()\n",
    "    soc = voltage\n",
    "    soh = estimateSOH()\n",
    "\n",
    "    weather = Weatherconditions(lat, lon)\n",
    "    weather.fetch_weather()\n",
    "    weather_penalty = weather.get_penalty()\n",
    "\n",
    "    road_conditions.analyze()\n",
    "    road_data = road_conditions.get_conditions()\n",
    "    friction = road_data[\"friction_coefficient\"]\n",
    "    surface_condition = road_data[\"condition\"]\n",
    "\n",
    "    road_features = RoadFeatures()\n",
    "    features = road_features.get_features()\n",
    "    slope = features[\"slope\"]\n",
    "    curvature = features[\"curvature\"]\n",
    "    slope_penalty = features[\"slope_penalty\"]\n",
    "    curvature_penalty = features[\"curvature_penalty\"]\n",
    "    elevation_data = features.get(\"elevation_profile\", [None, None, None])\n",
    "    elevation_start, elevation_mid, elevation_end = elevation_data\n",
    "\n",
    "    tire_pressure = 28.5\n",
    "    tire_health = 0.75\n",
    "    tire_system = TireSystem(pressure=tire_pressure, health=tire_health)\n",
    "    tire_penalty = tire_system.calculate_penalty()\n",
    "\n",
    "    record = {\n",
    "        \"latitude\": lat,\n",
    "        \"longitude\": lon,\n",
    "        \"voltage\": voltage,\n",
    "        \"current\": current,\n",
    "        \"SOC\": soc,\n",
    "        \"SOH\": soh,\n",
    "        \"load_weight\": load,\n",
    "        \"AC_status\": ac_codn,\n",
    "        \"weather_main\": weather.weather_main,\n",
    "        \"weather_description\": weather.weather_description,\n",
    "        \"temperature\": weather.temperature,\n",
    "        \"wind_speed\": weather.wind_speed,\n",
    "        \"weather_penalty\": weather_penalty,\n",
    "        \"road_condition\": surface_condition,\n",
    "        \"friction_coefficient\": friction,\n",
    "        \"slope\": slope,\n",
    "        \"curvature\": curvature,\n",
    "        \"slope_penalty\": slope_penalty,\n",
    "        \"curvature_penalty\": curvature_penalty,\n",
    "        \"elevation_start\": elevation_start,\n",
    "        \"elevation_mid\": elevation_mid,\n",
    "        \"elevation_end\": elevation_end,\n",
    "        \"tire_pressure\": tire_pressure,\n",
    "        \"tire_health\": tire_health,\n",
    "        \"tire_penalty\": tire_penalty,\n",
    "        \"timestamp\": time.strftime(\"%Y-%m-%d %H:%M:%S\")\n",
    "    }\n",
    "\n",
    "    print(f\"Data collected: {record}\")\n",
    "    data_records.append(record)\n",
    "\n",
    "def save_to_csv(filename=\"ev_drive_data.csv\"):\n",
    "    df = pd.DataFrame(data_records)\n",
    "    df.to_csv(filename, index=False)\n",
    "    print(f\"Data saved to {filename}\")\n",
    "\n",
    "if __name__ == \"__main__\":\n",
    "    for _ in range(5):\n",
    "        collect_data()\n",
    "        time.sleep(2)\n",
    "\n",
    "    save_to_csv()\n"
   ]
  },
  {
   "cell_type": "code",
   "execution_count": null,
   "id": "4765ce29",
   "metadata": {},
   "outputs": [],
   "source": [
    "# Correcting the data"
   ]
  },
  {
   "cell_type": "code",
   "execution_count": null,
   "id": "372560a6",
   "metadata": {},
   "outputs": [
    {
     "name": "stdout",
     "output_type": "stream",
     "text": [
      "✅ Dummy vehicle_range column added based on distance.\n"
     ]
    }
   ],
   "source": [
    "import pandas as pd\n",
    "import math\n",
    "\n",
    "df = pd.read_csv(\"ev_drive_data.csv\")\n",
    "\n",
    "# Haversine function\n",
    "def haversine(lat1, lon1, lat2, lon2):\n",
    "    R = 6371\n",
    "    phi1 = math.radians(lat1)\n",
    "    phi2 = math.radians(lat2)\n",
    "    delta_phi = math.radians(lat2 - lat1)\n",
    "    delta_lambda = math.radians(lon2 - lon1)\n",
    "\n",
    "    a = math.sin(delta_phi / 2)**2 + \\\n",
    "        math.cos(phi1) * math.cos(phi2) * math.sin(delta_lambda / 2)**2\n",
    "\n",
    "    c = 2 * math.atan2(math.sqrt(a), math.sqrt(1 - a))\n",
    "    return R * c \n",
    "\n",
    "df[\"vehicle_range\"] = df.apply(\n",
    "    lambda row: haversine(row[\"latitude\"], row[\"longitude\"], row[\"latitude\"], row[\"longitude\"]) + 5, axis=1\n",
    ")\n",
    "\n",
    "df.to_csv(\"ev_drive_data.csv\", index=False)\n",
    "print(\"Dummy vehicle_range column added based on distance.\")\n"
   ]
  },
  {
   "cell_type": "code",
   "execution_count": null,
   "id": "25fd30ec",
   "metadata": {},
   "outputs": [],
   "source": [
    "# Pre-Processing the Data"
   ]
  },
  {
   "cell_type": "code",
   "execution_count": null,
   "id": "0e04ee03",
   "metadata": {},
   "outputs": [
    {
     "name": "stdout",
     "output_type": "stream",
     "text": [
      "✅ Columns loaded: ['latitude', 'longitude', 'voltage', 'current', 'SOC', 'SOH', 'load_weight', 'AC_status', 'weather_main', 'weather_description', 'temperature', 'wind_speed', 'weather_penalty', 'road_condition', 'friction_coefficient', 'slope', 'curvature', 'slope_penalty', 'curvature_penalty', 'elevation_start', 'elevation_mid', 'elevation_end', 'tire_pressure', 'tire_health', 'tire_penalty', 'timestamp', 'vehicle_range']\n",
      "⚠️ Dropping columns with all NaNs: ['elevation_start', 'elevation_mid', 'elevation_end']\n",
      "✅ Data preprocessing complete. Saved as EV_data_preprocessed.csv.\n"
     ]
    }
   ],
   "source": [
    "import pandas as pd\n",
    "import numpy as np\n",
    "from sklearn.preprocessing import StandardScaler\n",
    "from sklearn.impute import SimpleImputer\n",
    "\n",
    "df = pd.read_csv(\"ev_drive_data.csv\")\n",
    "print(\"Columns loaded:\", df.columns.tolist())\n",
    "\n",
    "df.dropna(how=\"all\", inplace=True)\n",
    "\n",
    "num_cols = [\n",
    "    \"voltage\", \"current\", \"SOC\", \"SOH\", \"load_weight\", \"AC_status\",\n",
    "    \"temperature\", \"wind_speed\", \"weather_penalty\", \"friction_coefficient\",\n",
    "    \"slope\", \"curvature\", \"slope_penalty\", \"curvature_penalty\",\n",
    "    \"elevation_start\", \"elevation_mid\", \"elevation_end\",\n",
    "    \"tire_pressure\", \"tire_health\", \"tire_penalty\"\n",
    "]\n",
    "\n",
    "cat_cols = [\"weather_main\", \"weather_description\", \"road_condition\"]\n",
    "\n",
    "num_cols_filtered = [col for col in num_cols if not df[col].isna().all()]\n",
    "dropped_cols = [col for col in num_cols if col not in num_cols_filtered]\n",
    "if dropped_cols:\n",
    "    print(f\"Dropping columns with all NaNs: {dropped_cols}\")\n",
    "\n",
    "num_imputer = SimpleImputer(strategy=\"mean\")\n",
    "df[num_cols_filtered] = num_imputer.fit_transform(df[num_cols_filtered])\n",
    "\n",
    "cat_imputer = SimpleImputer(strategy=\"most_frequent\")\n",
    "df[cat_cols] = cat_imputer.fit_transform(df[cat_cols])\n",
    "\n",
    "df = pd.get_dummies(df, columns=cat_cols)\n",
    "\n",
    "scaler = StandardScaler()\n",
    "df[num_cols_filtered] = scaler.fit_transform(df[num_cols_filtered])\n",
    "\n",
    "df.to_csv(\"EV_data_preprocessed.csv\", index=False)\n",
    "print(\"Data preprocessing complete. Saved as EV_data_preprocessed.csv.\")\n"
   ]
  },
  {
   "cell_type": "code",
   "execution_count": null,
   "id": "b98c6708",
   "metadata": {},
   "outputs": [],
   "source": [
    "# Training the ML Model"
   ]
  },
  {
   "cell_type": "code",
   "execution_count": null,
   "id": "ae499c8e",
   "metadata": {},
   "outputs": [
    {
     "name": "stdout",
     "output_type": "stream",
     "text": [
      "📊 Model Performance:\n",
      "🔹 MAE: 1.04 km\n",
      "🔹 MSE: 1.07\n",
      "🔹 R² Score: nan\n",
      "✅ Model training complete. Pipeline saved as ev_range_predictor_pipeline.pkl.\n"
     ]
    },
    {
     "name": "stderr",
     "output_type": "stream",
     "text": [
      "c:\\Users\\shash\\AppData\\Local\\Programs\\Python\\Python313\\Lib\\site-packages\\sklearn\\impute\\_base.py:635: UserWarning: Skipping features without any observed values: ['elevation_start' 'elevation_mid' 'elevation_end']. At least one non-missing value is needed for imputation with strategy='mean'.\n",
      "  warnings.warn(\n",
      "c:\\Users\\shash\\AppData\\Local\\Programs\\Python\\Python313\\Lib\\site-packages\\sklearn\\impute\\_base.py:635: UserWarning: Skipping features without any observed values: ['elevation_start' 'elevation_mid' 'elevation_end']. At least one non-missing value is needed for imputation with strategy='mean'.\n",
      "  warnings.warn(\n",
      "c:\\Users\\shash\\AppData\\Local\\Programs\\Python\\Python313\\Lib\\site-packages\\sklearn\\metrics\\_regression.py:1266: UndefinedMetricWarning: R^2 score is not well-defined with less than two samples.\n",
      "  warnings.warn(msg, UndefinedMetricWarning)\n"
     ]
    }
   ],
   "source": [
    "import pandas as pd\n",
    "import joblib\n",
    "from sklearn.ensemble import RandomForestRegressor\n",
    "from sklearn.model_selection import train_test_split\n",
    "from sklearn.metrics import mean_absolute_error, mean_squared_error, r2_score\n",
    "from sklearn.preprocessing import OneHotEncoder\n",
    "from sklearn.impute import SimpleImputer\n",
    "from sklearn.compose import ColumnTransformer\n",
    "from sklearn.pipeline import Pipeline\n",
    "\n",
    "df = pd.read_csv(\"EV_data_preprocessed.csv\")\n",
    "\n",
    "if \"vehicle_range\" not in df.columns:\n",
    "    raise ValueError(\"❌ 'vehicle_range' column is missing in the dataset!\")\n",
    "df.dropna(subset=[\"vehicle_range\"], inplace=True)\n",
    "\n",
    "X = df.drop(columns=[\"vehicle_range\", \"timestamp\"]) \n",
    "y = df[\"vehicle_range\"]\n",
    "\n",
    "num_cols = X.select_dtypes(include=[\"int64\", \"float64\"]).columns.tolist()\n",
    "cat_cols = X.select_dtypes(include=[\"object\"]).columns.tolist()\n",
    "\n",
    "preprocessor = ColumnTransformer(\n",
    "    transformers=[\n",
    "        (\"num\", SimpleImputer(strategy=\"mean\"), num_cols),\n",
    "        (\"cat\", Pipeline([\n",
    "            (\"imputer\", SimpleImputer(strategy=\"most_frequent\")),\n",
    "            (\"encoder\", OneHotEncoder(handle_unknown=\"ignore\"))\n",
    "        ]), cat_cols)\n",
    "    ]\n",
    ")\n",
    "\n",
    "model_pipeline = Pipeline(steps=[\n",
    "    (\"preprocessing\", preprocessor),\n",
    "    (\"model\", RandomForestRegressor(n_estimators=100, random_state=42, n_jobs=-1))\n",
    "])\n",
    "\n",
    "X_train, X_test, y_train, y_test = train_test_split(X, y, test_size=0.2, random_state=42)\n",
    "\n",
    "model_pipeline.fit(X_train, y_train)\n",
    "\n",
    "y_pred = model_pipeline.predict(X_test)\n",
    "\n",
    "mae = mean_absolute_error(y_test, y_pred)\n",
    "mse = mean_squared_error(y_test, y_pred)\n",
    "r2 = r2_score(y_test, y_pred)\n",
    "\n",
    "print(f\"📊 Model Performance:\")\n",
    "print(f\"MAE: {mae:.2f} km\")\n",
    "print(f\"MSE: {mse:.2f}\")\n",
    "print(f\"R² Score: {r2:.4f}\")\n",
    "\n",
    "joblib.dump(model_pipeline, \"ev_range_predictor_pipeline.pkl\")\n",
    "print(\"Model training complete. Pipeline saved as ev_range_predictor_pipeline.pkl.\")\n"
   ]
  },
  {
   "cell_type": "code",
   "execution_count": null,
   "id": "6773cce5",
   "metadata": {},
   "outputs": [],
   "source": [
    "# Predicting the Range"
   ]
  },
  {
   "cell_type": "code",
   "execution_count": null,
   "id": "d9c3f96c",
   "metadata": {},
   "outputs": [
    {
     "name": "stdout",
     "output_type": "stream",
     "text": [
      "✅ Predictions saved to EV_data_with_predictions.csv\n"
     ]
    },
    {
     "name": "stderr",
     "output_type": "stream",
     "text": [
      "c:\\Users\\shash\\AppData\\Local\\Programs\\Python\\Python313\\Lib\\site-packages\\sklearn\\impute\\_base.py:635: UserWarning: Skipping features without any observed values: ['elevation_start' 'elevation_mid' 'elevation_end']. At least one non-missing value is needed for imputation with strategy='mean'.\n",
      "  warnings.warn(\n"
     ]
    }
   ],
   "source": [
    "import pandas as pd\n",
    "import joblib\n",
    "\n",
    "pipeline = joblib.load(\"ev_range_predictor_pipeline.pkl\")\n",
    "\n",
    "df = pd.read_csv(\"ev_drive_data.csv\")\n",
    "\n",
    "df.dropna(how=\"all\", inplace=True)\n",
    "\n",
    "if \"vehicle_range\" in df.columns:\n",
    "    df = df.drop(columns=[\"vehicle_range\"])\n",
    "\n",
    "if \"timestamp\" in df.columns:\n",
    "    df = df.drop(columns=[\"timestamp\"])\n",
    "\n",
    "if df.shape[0] == 0:\n",
    "    raise ValueError(\"No valid rows to predict after dropping empty ones!\")\n",
    "\n",
    "predicted_ranges = pipeline.predict(df)\n",
    "\n",
    "df[\"predicted_range_km\"] = predicted_ranges\n",
    "\n",
    "df.to_csv(\"EV_data_with_predictions.csv\", index=False)\n",
    "print(\"Predictions saved to EV_data_with_predictions.csv\")\n"
   ]
  }
 ],
 "metadata": {
  "kernelspec": {
   "display_name": "Python 3",
   "language": "python",
   "name": "python3"
  },
  "language_info": {
   "codemirror_mode": {
    "name": "ipython",
    "version": 3
   },
   "file_extension": ".py",
   "mimetype": "text/x-python",
   "name": "python",
   "nbconvert_exporter": "python",
   "pygments_lexer": "ipython3",
   "version": "3.13.2"
  }
 },
 "nbformat": 4,
 "nbformat_minor": 5
}
